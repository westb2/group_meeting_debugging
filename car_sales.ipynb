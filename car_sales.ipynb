{
 "cells": [
  {
   "cell_type": "code",
   "execution_count": 3,
   "metadata": {},
   "outputs": [
    {
     "name": "stdout",
     "output_type": "stream",
     "text": [
      "Defaulting to user installation because normal site-packages is not writeable\n",
      "Collecting random-word\n",
      "  Downloading Random_Word-1.0.11-py3-none-any.whl (1.2 MB)\n",
      "\u001b[K     |████████████████████████████████| 1.2 MB 3.8 MB/s eta 0:00:01\n",
      "\u001b[?25hCollecting requests\n",
      "  Downloading requests-2.31.0-py3-none-any.whl (62 kB)\n",
      "\u001b[K     |████████████████████████████████| 62 kB 4.6 MB/s eta 0:00:011\n",
      "\u001b[?25hCollecting pytest\n",
      "  Downloading pytest-7.4.2-py3-none-any.whl (324 kB)\n",
      "\u001b[K     |████████████████████████████████| 324 kB 15.5 MB/s eta 0:00:01\n",
      "\u001b[?25hCollecting pyyaml\n",
      "  Downloading PyYAML-6.0.1-cp39-cp39-macosx_11_0_arm64.whl (174 kB)\n",
      "\u001b[K     |████████████████████████████████| 174 kB 10.6 MB/s eta 0:00:01\n",
      "\u001b[?25hRequirement already satisfied: exceptiongroup>=1.0.0rc8 in /Users/ben/Library/Python/3.9/lib/python/site-packages (from pytest->random-word) (1.1.3)\n",
      "Collecting tomli>=1.0.0\n",
      "  Downloading tomli-2.0.1-py3-none-any.whl (12 kB)\n",
      "Collecting pluggy<2.0,>=0.12\n",
      "  Downloading pluggy-1.3.0-py3-none-any.whl (18 kB)\n",
      "Requirement already satisfied: packaging in /Users/ben/Library/Python/3.9/lib/python/site-packages (from pytest->random-word) (23.1)\n",
      "Collecting iniconfig\n",
      "  Downloading iniconfig-2.0.0-py3-none-any.whl (5.9 kB)\n",
      "Collecting urllib3<3,>=1.21.1\n",
      "  Downloading urllib3-2.0.5-py3-none-any.whl (123 kB)\n",
      "\u001b[K     |████████████████████████████████| 123 kB 11.8 MB/s eta 0:00:01\n",
      "\u001b[?25hCollecting idna<4,>=2.5\n",
      "  Downloading idna-3.4-py3-none-any.whl (61 kB)\n",
      "\u001b[K     |████████████████████████████████| 61 kB 833 kB/s  eta 0:00:01\n",
      "\u001b[?25hCollecting charset-normalizer<4,>=2\n",
      "  Downloading charset_normalizer-3.2.0-cp39-cp39-macosx_11_0_arm64.whl (124 kB)\n",
      "\u001b[K     |████████████████████████████████| 124 kB 16.5 MB/s eta 0:00:01\n",
      "\u001b[?25hCollecting certifi>=2017.4.17\n",
      "  Downloading certifi-2023.7.22-py3-none-any.whl (158 kB)\n",
      "\u001b[K     |████████████████████████████████| 158 kB 10.3 MB/s eta 0:00:01\n",
      "\u001b[?25hInstalling collected packages: urllib3, tomli, pluggy, iniconfig, idna, charset-normalizer, certifi, requests, pyyaml, pytest, random-word\n",
      "Successfully installed certifi-2023.7.22 charset-normalizer-3.2.0 idna-3.4 iniconfig-2.0.0 pluggy-1.3.0 pytest-7.4.2 pyyaml-6.0.1 random-word-1.0.11 requests-2.31.0 tomli-2.0.1 urllib3-2.0.5\n",
      "\u001b[33mWARNING: You are using pip version 21.2.4; however, version 23.2.1 is available.\n",
      "You should consider upgrading via the '/Library/Developer/CommandLineTools/usr/bin/python3 -m pip install --upgrade pip' command.\u001b[0m\n"
     ]
    }
   ],
   "source": [
    "!python3 -m pip install random-word"
   ]
  },
  {
   "cell_type": "code",
   "execution_count": 7,
   "metadata": {},
   "outputs": [],
   "source": [
    "import random\n",
    "from random_word import RandomWords\n",
    "import json\n"
   ]
  },
  {
   "cell_type": "code",
   "execution_count": 5,
   "metadata": {},
   "outputs": [],
   "source": [
    "def generate_random_dealership_fee():\n",
    "    word_generator = RandomWords()\n",
    "    # Return a single random word\n",
    "    referral_code = word_generator.get_random_word()\n",
    "    return random.random() * 50.0"
   ]
  },
  {
   "cell_type": "code",
   "execution_count": 9,
   "metadata": {},
   "outputs": [],
   "source": [
    "def calculate_car_price():\n",
    "    TAX_RATE = 1.1\n",
    "    with open(\"secret_car_stuff.json\") as file:\n",
    "        config = json.load(file)\n",
    "        base_price = config[\"base_price\"]\n",
    "        after_market_products_price = config[\"after_market_products_price\"]\n",
    "        total_price = (base_price + after_market_products_price + generate_random_dealership_fee())*TAX_RATE\n",
    "        print(f\"I'll sell you a car for {total_price}. Deal?\\n\")\n",
    "    "
   ]
  },
  {
   "cell_type": "code",
   "execution_count": 12,
   "metadata": {},
   "outputs": [
    {
     "name": "stdout",
     "output_type": "stream",
     "text": [
      "I'll sell you a car for 169.08613939428542. Deal?\n",
      "\n"
     ]
    }
   ],
   "source": [
    "calculate_car_price()"
   ]
  },
  {
   "cell_type": "code",
   "execution_count": null,
   "metadata": {},
   "outputs": [],
   "source": []
  }
 ],
 "metadata": {
  "kernelspec": {
   "display_name": "Python 3",
   "language": "python",
   "name": "python3"
  },
  "language_info": {
   "codemirror_mode": {
    "name": "ipython",
    "version": 3
   },
   "file_extension": ".py",
   "mimetype": "text/x-python",
   "name": "python",
   "nbconvert_exporter": "python",
   "pygments_lexer": "ipython3",
   "version": "3.9.6"
  },
  "orig_nbformat": 4
 },
 "nbformat": 4,
 "nbformat_minor": 2
}
