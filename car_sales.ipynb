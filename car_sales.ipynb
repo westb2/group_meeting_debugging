{
 "cells": [
  {
   "cell_type": "code",
   "execution_count": null,
   "metadata": {},
   "outputs": [],
   "source": [
    "!python3 -m pip install random-word"
   ]
  },
  {
   "cell_type": "code",
   "execution_count": null,
   "metadata": {},
   "outputs": [],
   "source": [
    "import random\n",
    "from random_word import RandomWords\n",
    "import json\n"
   ]
  },
  {
   "cell_type": "code",
   "execution_count": null,
   "metadata": {},
   "outputs": [],
   "source": [
    "def generate_random_dealership_fee():\n",
    "    word_generator = RandomWords()\n",
    "    # Return a single random word\n",
    "    referral_code = word_generator.get_random_word()\n",
    "    return random.random() * 50.0"
   ]
  },
  {
   "cell_type": "code",
   "execution_count": null,
   "metadata": {},
   "outputs": [],
   "source": [
    "def calculate_car_price():\n",
    "    TAX_RATE = 1.1\n",
    "    with open(\"DO_NOT_OPEN_secret_car_stuff.json\") as file:\n",
    "        config = json.load(file)\n",
    "        base_price = config[\"base_price\"]\n",
    "        after_market_products_price = config[\"after_market_products_price\"]\n",
    "        total_price = (base_price + after_market_products_price + generate_random_dealership_fee())*TAX_RATE\n",
    "        print(f\"I'll sell you a car for {total_price}. Deal?\\n\")\n",
    "    "
   ]
  },
  {
   "cell_type": "code",
   "execution_count": null,
   "metadata": {},
   "outputs": [],
   "source": [
    "calculate_car_price()"
   ]
  },
  {
   "cell_type": "code",
   "execution_count": null,
   "metadata": {},
   "outputs": [],
   "source": []
  }
 ],
 "metadata": {
  "kernelspec": {
   "display_name": "Python 3",
   "language": "python",
   "name": "python3"
  },
  "language_info": {
   "codemirror_mode": {
    "name": "ipython",
    "version": 3
   },
   "file_extension": ".py",
   "mimetype": "text/x-python",
   "name": "python",
   "nbconvert_exporter": "python",
   "pygments_lexer": "ipython3",
   "version": "3.9.6"
  },
  "orig_nbformat": 4
 },
 "nbformat": 4,
 "nbformat_minor": 2
}
